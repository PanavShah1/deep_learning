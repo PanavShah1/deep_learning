{
  "nbformat": 4,
  "nbformat_minor": 0,
  "metadata": {
    "colab": {
      "provenance": [],
      "gpuType": "T4",
      "authorship_tag": "ABX9TyMLtyU5UAg70n7GGNkDI00H",
      "include_colab_link": true
    },
    "kernelspec": {
      "name": "python3",
      "display_name": "Python 3"
    },
    "language_info": {
      "name": "python"
    },
    "accelerator": "GPU",
    "widgets": {
      "application/vnd.jupyter.widget-state+json": {
        "3e675324af5d44bd86287230735c49a2": {
          "model_module": "@jupyter-widgets/controls",
          "model_name": "HBoxModel",
          "model_module_version": "1.5.0",
          "state": {
            "_dom_classes": [],
            "_model_module": "@jupyter-widgets/controls",
            "_model_module_version": "1.5.0",
            "_model_name": "HBoxModel",
            "_view_count": null,
            "_view_module": "@jupyter-widgets/controls",
            "_view_module_version": "1.5.0",
            "_view_name": "HBoxView",
            "box_style": "",
            "children": [
              "IPY_MODEL_0a68654878f64648bacb7825d3c383de",
              "IPY_MODEL_3ec4c5a269e14bda96ed152d891c2463",
              "IPY_MODEL_95ad9e7d5a0d4e0a95db5568629689e2"
            ],
            "layout": "IPY_MODEL_8204dcce42494f01b52a8724ccff18ea"
          }
        },
        "0a68654878f64648bacb7825d3c383de": {
          "model_module": "@jupyter-widgets/controls",
          "model_name": "HTMLModel",
          "model_module_version": "1.5.0",
          "state": {
            "_dom_classes": [],
            "_model_module": "@jupyter-widgets/controls",
            "_model_module_version": "1.5.0",
            "_model_name": "HTMLModel",
            "_view_count": null,
            "_view_module": "@jupyter-widgets/controls",
            "_view_module_version": "1.5.0",
            "_view_name": "HTMLView",
            "description": "",
            "description_tooltip": null,
            "layout": "IPY_MODEL_5fd07b08f23b4466a50e76f9c993ad48",
            "placeholder": "​",
            "style": "IPY_MODEL_0f16247c58504306af5f4c675f8ec88d",
            "value": "100%"
          }
        },
        "3ec4c5a269e14bda96ed152d891c2463": {
          "model_module": "@jupyter-widgets/controls",
          "model_name": "FloatProgressModel",
          "model_module_version": "1.5.0",
          "state": {
            "_dom_classes": [],
            "_model_module": "@jupyter-widgets/controls",
            "_model_module_version": "1.5.0",
            "_model_name": "FloatProgressModel",
            "_view_count": null,
            "_view_module": "@jupyter-widgets/controls",
            "_view_module_version": "1.5.0",
            "_view_name": "ProgressView",
            "bar_style": "success",
            "description": "",
            "description_tooltip": null,
            "layout": "IPY_MODEL_19abb87776e54d02aecf3052ea6832a3",
            "max": 30,
            "min": 0,
            "orientation": "horizontal",
            "style": "IPY_MODEL_441e9d98985b403bac663447ef35239e",
            "value": 30
          }
        },
        "95ad9e7d5a0d4e0a95db5568629689e2": {
          "model_module": "@jupyter-widgets/controls",
          "model_name": "HTMLModel",
          "model_module_version": "1.5.0",
          "state": {
            "_dom_classes": [],
            "_model_module": "@jupyter-widgets/controls",
            "_model_module_version": "1.5.0",
            "_model_name": "HTMLModel",
            "_view_count": null,
            "_view_module": "@jupyter-widgets/controls",
            "_view_module_version": "1.5.0",
            "_view_name": "HTMLView",
            "description": "",
            "description_tooltip": null,
            "layout": "IPY_MODEL_f17401a88836438e9b4244f80ddc9899",
            "placeholder": "​",
            "style": "IPY_MODEL_17ac563c061a4fcf858f01146ad920ab",
            "value": " 30/30 [00:27&lt;00:00,  1.06it/s]"
          }
        },
        "8204dcce42494f01b52a8724ccff18ea": {
          "model_module": "@jupyter-widgets/base",
          "model_name": "LayoutModel",
          "model_module_version": "1.2.0",
          "state": {
            "_model_module": "@jupyter-widgets/base",
            "_model_module_version": "1.2.0",
            "_model_name": "LayoutModel",
            "_view_count": null,
            "_view_module": "@jupyter-widgets/base",
            "_view_module_version": "1.2.0",
            "_view_name": "LayoutView",
            "align_content": null,
            "align_items": null,
            "align_self": null,
            "border": null,
            "bottom": null,
            "display": null,
            "flex": null,
            "flex_flow": null,
            "grid_area": null,
            "grid_auto_columns": null,
            "grid_auto_flow": null,
            "grid_auto_rows": null,
            "grid_column": null,
            "grid_gap": null,
            "grid_row": null,
            "grid_template_areas": null,
            "grid_template_columns": null,
            "grid_template_rows": null,
            "height": null,
            "justify_content": null,
            "justify_items": null,
            "left": null,
            "margin": null,
            "max_height": null,
            "max_width": null,
            "min_height": null,
            "min_width": null,
            "object_fit": null,
            "object_position": null,
            "order": null,
            "overflow": null,
            "overflow_x": null,
            "overflow_y": null,
            "padding": null,
            "right": null,
            "top": null,
            "visibility": null,
            "width": null
          }
        },
        "5fd07b08f23b4466a50e76f9c993ad48": {
          "model_module": "@jupyter-widgets/base",
          "model_name": "LayoutModel",
          "model_module_version": "1.2.0",
          "state": {
            "_model_module": "@jupyter-widgets/base",
            "_model_module_version": "1.2.0",
            "_model_name": "LayoutModel",
            "_view_count": null,
            "_view_module": "@jupyter-widgets/base",
            "_view_module_version": "1.2.0",
            "_view_name": "LayoutView",
            "align_content": null,
            "align_items": null,
            "align_self": null,
            "border": null,
            "bottom": null,
            "display": null,
            "flex": null,
            "flex_flow": null,
            "grid_area": null,
            "grid_auto_columns": null,
            "grid_auto_flow": null,
            "grid_auto_rows": null,
            "grid_column": null,
            "grid_gap": null,
            "grid_row": null,
            "grid_template_areas": null,
            "grid_template_columns": null,
            "grid_template_rows": null,
            "height": null,
            "justify_content": null,
            "justify_items": null,
            "left": null,
            "margin": null,
            "max_height": null,
            "max_width": null,
            "min_height": null,
            "min_width": null,
            "object_fit": null,
            "object_position": null,
            "order": null,
            "overflow": null,
            "overflow_x": null,
            "overflow_y": null,
            "padding": null,
            "right": null,
            "top": null,
            "visibility": null,
            "width": null
          }
        },
        "0f16247c58504306af5f4c675f8ec88d": {
          "model_module": "@jupyter-widgets/controls",
          "model_name": "DescriptionStyleModel",
          "model_module_version": "1.5.0",
          "state": {
            "_model_module": "@jupyter-widgets/controls",
            "_model_module_version": "1.5.0",
            "_model_name": "DescriptionStyleModel",
            "_view_count": null,
            "_view_module": "@jupyter-widgets/base",
            "_view_module_version": "1.2.0",
            "_view_name": "StyleView",
            "description_width": ""
          }
        },
        "19abb87776e54d02aecf3052ea6832a3": {
          "model_module": "@jupyter-widgets/base",
          "model_name": "LayoutModel",
          "model_module_version": "1.2.0",
          "state": {
            "_model_module": "@jupyter-widgets/base",
            "_model_module_version": "1.2.0",
            "_model_name": "LayoutModel",
            "_view_count": null,
            "_view_module": "@jupyter-widgets/base",
            "_view_module_version": "1.2.0",
            "_view_name": "LayoutView",
            "align_content": null,
            "align_items": null,
            "align_self": null,
            "border": null,
            "bottom": null,
            "display": null,
            "flex": null,
            "flex_flow": null,
            "grid_area": null,
            "grid_auto_columns": null,
            "grid_auto_flow": null,
            "grid_auto_rows": null,
            "grid_column": null,
            "grid_gap": null,
            "grid_row": null,
            "grid_template_areas": null,
            "grid_template_columns": null,
            "grid_template_rows": null,
            "height": null,
            "justify_content": null,
            "justify_items": null,
            "left": null,
            "margin": null,
            "max_height": null,
            "max_width": null,
            "min_height": null,
            "min_width": null,
            "object_fit": null,
            "object_position": null,
            "order": null,
            "overflow": null,
            "overflow_x": null,
            "overflow_y": null,
            "padding": null,
            "right": null,
            "top": null,
            "visibility": null,
            "width": null
          }
        },
        "441e9d98985b403bac663447ef35239e": {
          "model_module": "@jupyter-widgets/controls",
          "model_name": "ProgressStyleModel",
          "model_module_version": "1.5.0",
          "state": {
            "_model_module": "@jupyter-widgets/controls",
            "_model_module_version": "1.5.0",
            "_model_name": "ProgressStyleModel",
            "_view_count": null,
            "_view_module": "@jupyter-widgets/base",
            "_view_module_version": "1.2.0",
            "_view_name": "StyleView",
            "bar_color": null,
            "description_width": ""
          }
        },
        "f17401a88836438e9b4244f80ddc9899": {
          "model_module": "@jupyter-widgets/base",
          "model_name": "LayoutModel",
          "model_module_version": "1.2.0",
          "state": {
            "_model_module": "@jupyter-widgets/base",
            "_model_module_version": "1.2.0",
            "_model_name": "LayoutModel",
            "_view_count": null,
            "_view_module": "@jupyter-widgets/base",
            "_view_module_version": "1.2.0",
            "_view_name": "LayoutView",
            "align_content": null,
            "align_items": null,
            "align_self": null,
            "border": null,
            "bottom": null,
            "display": null,
            "flex": null,
            "flex_flow": null,
            "grid_area": null,
            "grid_auto_columns": null,
            "grid_auto_flow": null,
            "grid_auto_rows": null,
            "grid_column": null,
            "grid_gap": null,
            "grid_row": null,
            "grid_template_areas": null,
            "grid_template_columns": null,
            "grid_template_rows": null,
            "height": null,
            "justify_content": null,
            "justify_items": null,
            "left": null,
            "margin": null,
            "max_height": null,
            "max_width": null,
            "min_height": null,
            "min_width": null,
            "object_fit": null,
            "object_position": null,
            "order": null,
            "overflow": null,
            "overflow_x": null,
            "overflow_y": null,
            "padding": null,
            "right": null,
            "top": null,
            "visibility": null,
            "width": null
          }
        },
        "17ac563c061a4fcf858f01146ad920ab": {
          "model_module": "@jupyter-widgets/controls",
          "model_name": "DescriptionStyleModel",
          "model_module_version": "1.5.0",
          "state": {
            "_model_module": "@jupyter-widgets/controls",
            "_model_module_version": "1.5.0",
            "_model_name": "DescriptionStyleModel",
            "_view_count": null,
            "_view_module": "@jupyter-widgets/base",
            "_view_module_version": "1.2.0",
            "_view_name": "StyleView",
            "description_width": ""
          }
        }
      }
    }
  },
  "cells": [
    {
      "cell_type": "markdown",
      "metadata": {
        "id": "view-in-github",
        "colab_type": "text"
      },
      "source": [
        "<a href=\"https://colab.research.google.com/github/PanavShah1/dogs_cats/blob/main/dogs_cats.ipynb\" target=\"_parent\"><img src=\"https://colab.research.google.com/assets/colab-badge.svg\" alt=\"Open In Colab\"/></a>"
      ]
    },
    {
      "cell_type": "code",
      "execution_count": 1,
      "metadata": {
        "colab": {
          "base_uri": "https://localhost:8080/",
          "height": 35
        },
        "id": "Xu4i8Vq8LO-1",
        "outputId": "4a15cd0a-e905-4ab9-c961-0ff3bdb5f4fc"
      },
      "outputs": [
        {
          "output_type": "execute_result",
          "data": {
            "text/plain": [
              "'2.3.0+cu121'"
            ],
            "application/vnd.google.colaboratory.intrinsic+json": {
              "type": "string"
            }
          },
          "metadata": {},
          "execution_count": 1
        }
      ],
      "source": [
        "import torch\n",
        "from torch import nn\n",
        "\n",
        "torch.__version__"
      ]
    },
    {
      "cell_type": "code",
      "source": [
        "device = \"cuda\" if torch.cuda.is_available() else \"cpu\"\n",
        "print(device)"
      ],
      "metadata": {
        "colab": {
          "base_uri": "https://localhost:8080/"
        },
        "id": "RGRUWuyqLfZt",
        "outputId": "a7790018-fbc3-4290-c11d-97586993a218"
      },
      "execution_count": 2,
      "outputs": [
        {
          "output_type": "stream",
          "name": "stdout",
          "text": [
            "cuda\n"
          ]
        }
      ]
    },
    {
      "cell_type": "code",
      "source": [
        "import requests\n",
        "import zipfile\n",
        "from pathlib import Path\n",
        "\n",
        "# Setup path to a data folder\n",
        "data_path = Path(\"data/\")\n",
        "image_path = data_path / \"cats_dogs\"\n",
        "\n",
        "# If the image folder doesn't exist, download it and prepare it...\n",
        "if image_path.is_dir():\n",
        "  print(f\"{image_path} directory already exists... skipping download\")\n",
        "else:\n",
        "  print(f\"{image_path} does not exist... creating one\")\n",
        "  image_path.mkdir(parents=True, exist_ok=True)\n",
        "\n",
        "# Download data\n",
        "with open(data_path / \"cats_dogs.zip\", \"wb\") as f:\n",
        "  request = requests.get(\"https://github.com/PanavShah1/dogs_cats/blob/main/dogs_cats.zip?raw=true\")\n",
        "  print(\"Downloading data...\")\n",
        "  f.write(request.content)\n",
        "\n",
        "# Unzip data\n",
        "with zipfile.ZipFile(data_path / \"cats_dogs.zip\", \"r\") as zip_ref:\n",
        "  print(\"Unzipping data...\")\n",
        "  zip_ref.extractall(image_path)\n"
      ],
      "metadata": {
        "colab": {
          "base_uri": "https://localhost:8080/"
        },
        "id": "dwZSWoT3LoaL",
        "outputId": "41d581c8-b325-4eb0-865a-01243e99f007"
      },
      "execution_count": 3,
      "outputs": [
        {
          "output_type": "stream",
          "name": "stdout",
          "text": [
            "data/cats_dogs does not exist... creating one\n",
            "Downloading data...\n",
            "Unzipping data...\n"
          ]
        }
      ]
    },
    {
      "cell_type": "code",
      "source": [
        "import os\n",
        "for dirpath, dirnames, filenames in os.walk(image_path):\n",
        "  print(f\"There are {len(dirnames)} directories and {len(filenames)} images in {dirpath}\")"
      ],
      "metadata": {
        "id": "aw6QJ4bnLzIB",
        "colab": {
          "base_uri": "https://localhost:8080/"
        },
        "outputId": "789a10c5-bbc9-4442-9c81-1b4fe544966f"
      },
      "execution_count": 4,
      "outputs": [
        {
          "output_type": "stream",
          "name": "stdout",
          "text": [
            "There are 2 directories and 0 images in data/cats_dogs\n",
            "There are 1 directories and 0 images in data/cats_dogs/training_set\n",
            "There are 2 directories and 0 images in data/cats_dogs/training_set/training_set\n",
            "There are 0 directories and 4001 images in data/cats_dogs/training_set/training_set/cats\n",
            "There are 0 directories and 4006 images in data/cats_dogs/training_set/training_set/dogs\n",
            "There are 1 directories and 0 images in data/cats_dogs/test_set\n",
            "There are 2 directories and 0 images in data/cats_dogs/test_set/test_set\n",
            "There are 0 directories and 1012 images in data/cats_dogs/test_set/test_set/cats\n",
            "There are 0 directories and 1013 images in data/cats_dogs/test_set/test_set/dogs\n"
          ]
        }
      ]
    },
    {
      "cell_type": "code",
      "source": [
        "train_path = image_path / \"training_set/training_set\"\n",
        "test_path = image_path / \"test_set/test_set\"\n",
        "os.listdir(train_path), os.listdir(test_path)"
      ],
      "metadata": {
        "colab": {
          "base_uri": "https://localhost:8080/"
        },
        "id": "11JbAYovke6W",
        "outputId": "5b028570-6fd6-4f7c-dfd6-a39e09348031"
      },
      "execution_count": 5,
      "outputs": [
        {
          "output_type": "execute_result",
          "data": {
            "text/plain": [
              "(['cats', 'dogs'], ['cats', 'dogs'])"
            ]
          },
          "metadata": {},
          "execution_count": 5
        }
      ]
    },
    {
      "cell_type": "code",
      "source": [
        "train_path_set = list(train_path.glob(\"*/*.jpg\"))\n",
        "test_path_set = list(test_path.glob(\"*/*.jpg\"))\n",
        "len(train_path_set), len(test_path_set)"
      ],
      "metadata": {
        "colab": {
          "base_uri": "https://localhost:8080/"
        },
        "id": "OC76-VCzlDpC",
        "outputId": "bb1894ca-5f6a-4e49-ba89-2d2b7bcf96c6"
      },
      "execution_count": 6,
      "outputs": [
        {
          "output_type": "execute_result",
          "data": {
            "text/plain": [
              "(8005, 2023)"
            ]
          },
          "metadata": {},
          "execution_count": 6
        }
      ]
    },
    {
      "cell_type": "code",
      "source": [
        "from PIL import Image\n",
        "\n",
        "img = Image.open(train_path_set[0])\n",
        "img"
      ],
      "metadata": {
        "colab": {
          "base_uri": "https://localhost:8080/",
          "height": 213
        },
        "id": "_7R1ACkhljqg",
        "outputId": "e8a61e57-03c0-4f2c-f524-d28e09341ac0"
      },
      "execution_count": 7,
      "outputs": [
        {
          "output_type": "execute_result",
          "data": {
            "text/plain": [
              "<PIL.JpegImagePlugin.JpegImageFile image mode=RGB size=200x196>"
            ],
            "image/png": "[encoded data removed]"
          },
          "metadata": {},
          "execution_count": 7
        }
      ]
    },
    {
      "cell_type": "code",
      "source": [
        "img.size"
      ],
      "metadata": {
        "colab": {
          "base_uri": "https://localhost:8080/"
        },
        "id": "07xBEacQlu5M",
        "outputId": "92f34cfe-ec81-48f2-84dd-3397155abe47"
      },
      "execution_count": 8,
      "outputs": [
        {
          "output_type": "execute_result",
          "data": {
            "text/plain": [
              "(200, 196)"
            ]
          },
          "metadata": {},
          "execution_count": 8
        }
      ]
    },
    {
      "cell_type": "code",
      "source": [
        "train_path_set[0].parent.stem"
      ],
      "metadata": {
        "colab": {
          "base_uri": "https://localhost:8080/",
          "height": 35
        },
        "id": "4kgj613-mspq",
        "outputId": "7b006626-ecac-4834-ab51-cf20b74c3935"
      },
      "execution_count": 9,
      "outputs": [
        {
          "output_type": "execute_result",
          "data": {
            "text/plain": [
              "'cats'"
            ],
            "application/vnd.google.colaboratory.intrinsic+json": {
              "type": "string"
            }
          },
          "metadata": {},
          "execution_count": 9
        }
      ]
    },
    {
      "cell_type": "code",
      "source": [
        "import numpy as np\n",
        "img_array = np.asarray(img)\n",
        "img_array"
      ],
      "metadata": {
        "colab": {
          "base_uri": "https://localhost:8080/",
          "height": 236
        },
        "id": "x0_Vjfwkl1_B",
        "outputId": "965bb32f-f8e4-44e9-ccb3-18dace108b3a"
      },
      "execution_count": 10,
      "outputs": [
        {
          "output_type": "execute_result",
          "data": {
            "text/plain": [
              "array([[[219, 215, 212],\n",
              "        [219, 215, 212],\n",
              "        [219, 216, 211],\n",
              "        ...,\n",
              "        [216, 216, 216],\n",
              "        [216, 216, 216],\n",
              "        [216, 216, 216]],\n",
              "\n",
              "       [[219, 215, 212],\n",
              "        [219, 215, 212],\n",
              "        [219, 215, 212],\n",
              "        ...,\n",
              "        [216, 216, 216],\n",
              "        [216, 216, 216],\n",
              "        [216, 216, 216]],\n",
              "\n",
              "       [[219, 216, 211],\n",
              "        [219, 215, 212],\n",
              "        [219, 215, 212],\n",
              "        ...,\n",
              "        [216, 216, 216],\n",
              "        [216, 216, 216],\n",
              "        [216, 216, 216]],\n",
              "\n",
              "       ...,\n",
              "\n",
              "       [[216, 216, 216],\n",
              "        [216, 216, 216],\n",
              "        [216, 216, 216],\n",
              "        ...,\n",
              "        [216, 216, 216],\n",
              "        [216, 216, 216],\n",
              "        [216, 216, 216]],\n",
              "\n",
              "       [[216, 216, 216],\n",
              "        [216, 216, 216],\n",
              "        [216, 216, 216],\n",
              "        ...,\n",
              "        [216, 216, 216],\n",
              "        [216, 216, 216],\n",
              "        [216, 216, 216]],\n",
              "\n",
              "       [[216, 216, 216],\n",
              "        [216, 216, 216],\n",
              "        [216, 216, 216],\n",
              "        ...,\n",
              "        [216, 216, 216],\n",
              "        [216, 216, 216],\n",
              "        [216, 216, 216]]], dtype=uint8)"
            ],
            "text/html": [
              "<style>\n",
              "      .ndarray_repr .ndarray_raw_data {\n",
              "        display: none;\n",
              "      }\n",
              "      .ndarray_repr.show_array .ndarray_raw_data {\n",
              "        display: block;\n",
              "      }\n",
              "      .ndarray_repr.show_array .ndarray_image_preview {\n",
              "        display: none;\n",
              "      }\n",
              "      </style>\n",
              "      <div id=\"id-35435860-f95d-4654-bbe2-f3a4b7207b67\" class=\"ndarray_repr\"><pre>ndarray (196, 200, 3) <button style=\"padding: 0 2px;\">show data</button></pre><img src=\"data:image/png;base64,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\" class=\"ndarray_image_preview\" /><pre class=\"ndarray_raw_data\">array([[[219, 215, 212],\n",
              "        [219, 215, 212],\n",
              "        [219, 216, 211],\n",
              "        ...,\n",
              "        [216, 216, 216],\n",
              "        [216, 216, 216],\n",
              "        [216, 216, 216]],\n",
              "\n",
              "       [[219, 215, 212],\n",
              "        [219, 215, 212],\n",
              "        [219, 215, 212],\n",
              "        ...,\n",
              "        [216, 216, 216],\n",
              "        [216, 216, 216],\n",
              "        [216, 216, 216]],\n",
              "\n",
              "       [[219, 216, 211],\n",
              "        [219, 215, 212],\n",
              "        [219, 215, 212],\n",
              "        ...,\n",
              "        [216, 216, 216],\n",
              "        [216, 216, 216],\n",
              "        [216, 216, 216]],\n",
              "\n",
              "       ...,\n",
              "\n",
              "       [[216, 216, 216],\n",
              "        [216, 216, 216],\n",
              "        [216, 216, 216],\n",
              "        ...,\n",
              "        [216, 216, 216],\n",
              "        [216, 216, 216],\n",
              "        [216, 216, 216]],\n",
              "\n",
              "       [[216, 216, 216],\n",
              "        [216, 216, 216],\n",
              "        [216, 216, 216],\n",
              "        ...,\n",
              "        [216, 216, 216],\n",
              "        [216, 216, 216],\n",
              "        [216, 216, 216]],\n",
              "\n",
              "       [[216, 216, 216],\n",
              "        [216, 216, 216],\n",
              "        [216, 216, 216],\n",
              "        ...,\n",
              "        [216, 216, 216],\n",
              "        [216, 216, 216],\n",
              "        [216, 216, 216]]], dtype=uint8)</pre></div><script>\n",
              "      (() => {\n",
              "      const titles = ['show data', 'hide data'];\n",
              "      let index = 0\n",
              "      document.querySelector('#id-35435860-f95d-4654-bbe2-f3a4b7207b67 button').onclick = (e) => {\n",
              "        document.querySelector('#id-35435860-f95d-4654-bbe2-f3a4b7207b67').classList.toggle('show_array');\n",
              "        index = (++index) % 2;\n",
              "        document.querySelector('#id-35435860-f95d-4654-bbe2-f3a4b7207b67 button').textContent = titles[index];\n",
              "        e.preventDefault();\n",
              "        e.stopPropagation();\n",
              "      }\n",
              "      })();\n",
              "    </script>"
            ]
          },
          "metadata": {},
          "execution_count": 10
        }
      ]
    },
    {
      "cell_type": "code",
      "source": [
        "# Transform data\n",
        "from torchvision import transforms\n",
        "train_transform = transforms.Compose([\n",
        "    transforms.Resize([64, 64]),\n",
        "    transforms.RandomHorizontalFlip(),\n",
        "    transforms.RandomRotation(10),\n",
        "    transforms.ToTensor()\n",
        "])\n",
        "test_transform = transforms.Compose([\n",
        "    transforms.Resize([64, 64]),\n",
        "    transforms.ToTensor()\n",
        "])"
      ],
      "metadata": {
        "id": "P8V2GhOlmn-X"
      },
      "execution_count": 115,
      "outputs": []
    },
    {
      "cell_type": "code",
      "source": [
        "import matplotlib.pyplot as plt\n",
        "transformed_img = train_transform(img)\n",
        "plt.imshow(transformed_img.permute(1, 2, 0))"
      ],
      "metadata": {
        "colab": {
          "base_uri": "https://localhost:8080/",
          "height": 450
        },
        "id": "i_SOI481nxo3",
        "outputId": "f1dcda90-7fc7-44ae-b794-0dca02fd2ba8"
      },
      "execution_count": 116,
      "outputs": [
        {
          "output_type": "execute_result",
          "data": {
            "text/plain": [
              "<matplotlib.image.AxesImage at 0x78462a13d540>"
            ]
          },
          "metadata": {},
          "execution_count": 116
        },
        {
          "output_type": "display_data",
          "data": {
            "text/plain": [
              "<Figure size 640x480 with 1 Axes>"
            ],
            "image/png": "[encoded data removed]"
          },
          "metadata": {}
        }
      ]
    },
    {
      "cell_type": "code",
      "source": [
        "def create_dataset(path: Path,\n",
        "                   transform: transforms.Compose,\n",
        "                   device: device):\n",
        "  path_list = list(path.glob(\"*/*.jpg\"))\n",
        "  dataset = []\n",
        "  for img_path in path_list:\n",
        "    img = Image.open(img_path)\n",
        "    transformed_img = transform(img)\n",
        "    img_title = img_path.parent.stem\n",
        "    if img_title == \"cats\":\n",
        "      # print(\"cat\")\n",
        "      img_title = 0\n",
        "    else:\n",
        "      # print(\"dog\")\n",
        "      img_title = 1\n",
        "    dataset.append((transformed_img, img_title))\n",
        "\n",
        "  return dataset"
      ],
      "metadata": {
        "id": "_rtMeYcaoB2t"
      },
      "execution_count": 117,
      "outputs": []
    },
    {
      "cell_type": "code",
      "source": [
        "train_dataset = create_dataset(path=train_path,\n",
        "                              transform=train_transform,\n",
        "                              device=device)\n",
        "test_dataset = create_dataset(path=test_path,\n",
        "                              transform=test_transform,\n",
        "                              device=device)"
      ],
      "metadata": {
        "id": "Ru5lcbs1o5Ly"
      },
      "execution_count": 118,
      "outputs": []
    },
    {
      "cell_type": "code",
      "source": [
        "X, y = train_dataset[5000]\n",
        "print(y)\n",
        "print(X.shape)\n",
        "plt.imshow(X.permute(1, 2, 0))"
      ],
      "metadata": {
        "colab": {
          "base_uri": "https://localhost:8080/",
          "height": 486
        },
        "id": "GXYQvabwpfLY",
        "outputId": "7fc464a2-f254-422e-e55a-b8dd0434c1f7"
      },
      "execution_count": 119,
      "outputs": [
        {
          "output_type": "stream",
          "name": "stdout",
          "text": [
            "1\n",
            "torch.Size([3, 64, 64])\n"
          ]
        },
        {
          "output_type": "execute_result",
          "data": {
            "text/plain": [
              "<matplotlib.image.AxesImage at 0x7846000f8730>"
            ]
          },
          "metadata": {},
          "execution_count": 119
        },
        {
          "output_type": "display_data",
          "data": {
            "text/plain": [
              "<Figure size 640x480 with 1 Axes>"
            ],
            "image/png": "[encoded data removed]"
          },
          "metadata": {}
        }
      ]
    },
    {
      "cell_type": "code",
      "source": [
        "from torch.utils.data import DataLoader\n",
        "torch.manual_seed(42)\n",
        "train_dataloader = DataLoader(train_dataset,\n",
        "                              batch_size=32,\n",
        "                              shuffle=True)\n",
        "test_dataloader = DataLoader(test_dataset,\n",
        "                             batch_size=32,\n",
        "                             shuffle=False)"
      ],
      "metadata": {
        "id": "ihRsj6Rrqu94"
      },
      "execution_count": 120,
      "outputs": []
    },
    {
      "cell_type": "code",
      "source": [
        "train_dataloader, test_dataloader"
      ],
      "metadata": {
        "colab": {
          "base_uri": "https://localhost:8080/"
        },
        "id": "DEixTVyrrQYG",
        "outputId": "59f039f7-d801-4b5a-c574-7600a14c63f7"
      },
      "execution_count": 121,
      "outputs": [
        {
          "output_type": "execute_result",
          "data": {
            "text/plain": [
              "(<torch.utils.data.dataloader.DataLoader at 0x78462048e290>,\n",
              " <torch.utils.data.dataloader.DataLoader at 0x78462048e5f0>)"
            ]
          },
          "metadata": {},
          "execution_count": 121
        }
      ]
    },
    {
      "cell_type": "code",
      "source": [
        "for i, (data, target) in enumerate(train_dataloader):\n",
        "    if i >= 250 and i<400:  # Checking first 3 batches\n",
        "      print(f\"Batch {i} - Target: {target}\")\n",
        "      break\n"
      ],
      "metadata": {
        "colab": {
          "base_uri": "https://localhost:8080/"
        },
        "id": "0gMwMCuYSBVs",
        "outputId": "30ccebae-c096-4c88-cd4e-918d705db874"
      },
      "execution_count": 122,
      "outputs": [
        {
          "output_type": "stream",
          "name": "stdout",
          "text": [
            "Batch 250 - Target: tensor([0, 1, 0, 0, 1])\n"
          ]
        }
      ]
    },
    {
      "cell_type": "code",
      "source": [
        "dataset = next(iter(train_dataloader))\n",
        "dataset[0].shape, dataset[1], dataset[0]"
      ],
      "metadata": {
        "colab": {
          "base_uri": "https://localhost:8080/"
        },
        "id": "YzsSy5ydrSh4",
        "outputId": "8f627248-c5a0-4068-9dc0-1aaf3d375a9f"
      },
      "execution_count": 123,
      "outputs": [
        {
          "output_type": "execute_result",
          "data": {
            "text/plain": [
              "(torch.Size([32, 3, 64, 64]),\n",
              " tensor([0, 1, 1, 1, 1, 1, 1, 1, 1, 0, 1, 0, 0, 1, 1, 0, 0, 0, 1, 0, 0, 0, 1, 0,\n",
              "         1, 0, 0, 1, 0, 1, 1, 1]),\n",
              " tensor([[[[0.0000, 0.0000, 0.0000,  ..., 0.0000, 0.0000, 0.0000],\n",
              "           [0.0000, 0.0000, 0.0000,  ..., 0.0000, 0.0000, 0.0000],\n",
              "           [0.0000, 0.0000, 0.0000,  ..., 0.0000, 0.0000, 0.0000],\n",
              "           ...,\n",
              "           [0.0000, 0.0000, 0.0000,  ..., 0.0000, 0.0000, 0.0000],\n",
              "           [0.0000, 0.0000, 0.0000,  ..., 0.0000, 0.0000, 0.0000],\n",
              "           [0.0000, 0.0000, 0.0000,  ..., 0.0000, 0.0000, 0.0000]],\n",
              " \n",
              "          [[0.0000, 0.0000, 0.0000,  ..., 0.0000, 0.0000, 0.0000],\n",
              "           [0.0000, 0.0000, 0.0000,  ..., 0.0000, 0.0000, 0.0000],\n",
              "           [0.0000, 0.0000, 0.0000,  ..., 0.0000, 0.0000, 0.0000],\n",
              "           ...,\n",
              "           [0.0000, 0.0000, 0.0000,  ..., 0.0000, 0.0000, 0.0000],\n",
              "           [0.0000, 0.0000, 0.0000,  ..., 0.0000, 0.0000, 0.0000],\n",
              "           [0.0000, 0.0000, 0.0000,  ..., 0.0000, 0.0000, 0.0000]],\n",
              " \n",
              "          [[0.0000, 0.0000, 0.0000,  ..., 0.0000, 0.0000, 0.0000],\n",
              "           [0.0000, 0.0000, 0.0000,  ..., 0.0000, 0.0000, 0.0000],\n",
              "           [0.0000, 0.0000, 0.0000,  ..., 0.0000, 0.0000, 0.0000],\n",
              "           ...,\n",
              "           [0.0000, 0.0000, 0.0000,  ..., 0.0000, 0.0000, 0.0000],\n",
              "           [0.0000, 0.0000, 0.0000,  ..., 0.0000, 0.0000, 0.0000],\n",
              "           [0.0000, 0.0000, 0.0000,  ..., 0.0000, 0.0000, 0.0000]]],\n",
              " \n",
              " \n",
              "         [[[0.0000, 1.0000, 1.0000,  ..., 1.0000, 1.0000, 0.0000],\n",
              "           [1.0000, 1.0000, 1.0000,  ..., 1.0000, 1.0000, 1.0000],\n",
              "           [1.0000, 1.0000, 1.0000,  ..., 1.0000, 1.0000, 1.0000],\n",
              "           ...,\n",
              "           [1.0000, 0.9961, 0.9412,  ..., 0.9922, 1.0000, 1.0000],\n",
              "           [1.0000, 1.0000, 0.9843,  ..., 1.0000, 1.0000, 1.0000],\n",
              "           [0.0000, 1.0000, 1.0000,  ..., 1.0000, 1.0000, 0.0000]],\n",
              " \n",
              "          [[0.0000, 1.0000, 1.0000,  ..., 1.0000, 1.0000, 0.0000],\n",
              "           [1.0000, 1.0000, 1.0000,  ..., 1.0000, 1.0000, 1.0000],\n",
              "           [1.0000, 1.0000, 1.0000,  ..., 1.0000, 1.0000, 1.0000],\n",
              "           ...,\n",
              "           [1.0000, 0.9961, 0.9451,  ..., 0.9961, 1.0000, 1.0000],\n",
              "           [1.0000, 1.0000, 0.9922,  ..., 1.0000, 1.0000, 1.0000],\n",
              "           [0.0000, 1.0000, 1.0000,  ..., 1.0000, 1.0000, 0.0000]],\n",
              " \n",
              "          [[0.0000, 1.0000, 1.0000,  ..., 1.0000, 1.0000, 0.0000],\n",
              "           [1.0000, 1.0000, 1.0000,  ..., 1.0000, 1.0000, 1.0000],\n",
              "           [1.0000, 1.0000, 1.0000,  ..., 1.0000, 1.0000, 1.0000],\n",
              "           ...,\n",
              "           [1.0000, 0.9922, 0.9843,  ..., 0.9922, 0.9961, 1.0000],\n",
              "           [1.0000, 0.9961, 0.9843,  ..., 1.0000, 1.0000, 1.0000],\n",
              "           [0.0000, 0.9922, 0.9961,  ..., 1.0000, 1.0000, 0.0000]]],\n",
              " \n",
              " \n",
              "         [[[0.0000, 0.0000, 0.0000,  ..., 0.0000, 0.0000, 0.0000],\n",
              "           [0.0000, 0.0000, 0.0000,  ..., 0.0000, 0.0000, 0.0000],\n",
              "           [0.0000, 0.0000, 0.0000,  ..., 0.0000, 0.0000, 0.0000],\n",
              "           ...,\n",
              "           [0.0000, 0.0000, 0.0000,  ..., 0.0000, 0.0000, 0.0000],\n",
              "           [0.0000, 0.0000, 0.0000,  ..., 0.0000, 0.0000, 0.0000],\n",
              "           [0.0000, 0.0000, 0.0000,  ..., 0.0000, 0.0000, 0.0000]],\n",
              " \n",
              "          [[0.0000, 0.0000, 0.0000,  ..., 0.0000, 0.0000, 0.0000],\n",
              "           [0.0000, 0.0000, 0.0000,  ..., 0.0000, 0.0000, 0.0000],\n",
              "           [0.0000, 0.0000, 0.0000,  ..., 0.0000, 0.0000, 0.0000],\n",
              "           ...,\n",
              "           [0.0000, 0.0000, 0.0000,  ..., 0.0000, 0.0000, 0.0000],\n",
              "           [0.0000, 0.0000, 0.0000,  ..., 0.0000, 0.0000, 0.0000],\n",
              "           [0.0000, 0.0000, 0.0000,  ..., 0.0000, 0.0000, 0.0000]],\n",
              " \n",
              "          [[0.0000, 0.0000, 0.0000,  ..., 0.0000, 0.0000, 0.0000],\n",
              "           [0.0000, 0.0000, 0.0000,  ..., 0.0000, 0.0000, 0.0000],\n",
              "           [0.0000, 0.0000, 0.0000,  ..., 0.0000, 0.0000, 0.0000],\n",
              "           ...,\n",
              "           [0.0000, 0.0000, 0.0000,  ..., 0.0000, 0.0000, 0.0000],\n",
              "           [0.0000, 0.0000, 0.0000,  ..., 0.0000, 0.0000, 0.0000],\n",
              "           [0.0000, 0.0000, 0.0000,  ..., 0.0000, 0.0000, 0.0000]]],\n",
              " \n",
              " \n",
              "         ...,\n",
              " \n",
              " \n",
              "         [[[0.7608, 0.8941, 0.9020,  ..., 0.9961, 0.9922, 0.9922],\n",
              "           [0.7373, 0.8784, 0.8941,  ..., 0.9922, 0.9843, 0.9922],\n",
              "           [0.7216, 0.8627, 0.8863,  ..., 0.9843, 0.9647, 0.9765],\n",
              "           ...,\n",
              "           [0.2824, 0.2941, 0.2980,  ..., 0.2000, 0.2157, 0.2549],\n",
              "           [0.2784, 0.2863, 0.2941,  ..., 0.1922, 0.1961, 0.2196],\n",
              "           [0.2784, 0.2824, 0.2863,  ..., 0.1961, 0.2078, 0.2196]],\n",
              " \n",
              "          [[0.8000, 0.9373, 0.9490,  ..., 0.9882, 0.9804, 0.9804],\n",
              "           [0.7804, 0.9216, 0.9451,  ..., 0.9804, 0.9686, 0.9765],\n",
              "           [0.7725, 0.9137, 0.9373,  ..., 0.9529, 0.9216, 0.9490],\n",
              "           ...,\n",
              "           [0.2941, 0.3059, 0.3098,  ..., 0.2392, 0.2549, 0.2941],\n",
              "           [0.2902, 0.2980, 0.3059,  ..., 0.2275, 0.2353, 0.2588],\n",
              "           [0.2902, 0.2941, 0.2980,  ..., 0.2235, 0.2392, 0.2549]],\n",
              " \n",
              "          [[0.8157, 0.9686, 0.9765,  ..., 0.9529, 0.9451, 0.9451],\n",
              "           [0.7961, 0.9529, 0.9725,  ..., 0.9412, 0.9216, 0.9294],\n",
              "           [0.7843, 0.9412, 0.9686,  ..., 0.8980, 0.8745, 0.9098],\n",
              "           ...,\n",
              "           [0.3216, 0.3333, 0.3373,  ..., 0.2745, 0.2902, 0.3294],\n",
              "           [0.3137, 0.3216, 0.3294,  ..., 0.2588, 0.2706, 0.2941],\n",
              "           [0.3098, 0.3137, 0.3176,  ..., 0.2549, 0.2745, 0.2902]]],\n",
              " \n",
              " \n",
              "         [[[0.0000, 0.0000, 0.0000,  ..., 0.0000, 0.0000, 0.0000],\n",
              "           [0.0000, 0.0000, 0.0000,  ..., 0.0000, 0.0000, 0.0000],\n",
              "           [0.0000, 0.0000, 0.0000,  ..., 0.0000, 0.0000, 0.0000],\n",
              "           ...,\n",
              "           [0.0000, 0.0000, 0.0000,  ..., 0.0000, 0.0000, 0.0000],\n",
              "           [0.0000, 0.0000, 0.0000,  ..., 0.0000, 0.0000, 0.0000],\n",
              "           [0.0000, 0.0000, 0.0000,  ..., 0.0000, 0.0000, 0.0000]],\n",
              " \n",
              "          [[0.0000, 0.0000, 0.0000,  ..., 0.0000, 0.0000, 0.0000],\n",
              "           [0.0000, 0.0000, 0.0000,  ..., 0.0000, 0.0000, 0.0000],\n",
              "           [0.0000, 0.0000, 0.0000,  ..., 0.0000, 0.0000, 0.0000],\n",
              "           ...,\n",
              "           [0.0000, 0.0000, 0.0000,  ..., 0.0000, 0.0000, 0.0000],\n",
              "           [0.0000, 0.0000, 0.0000,  ..., 0.0000, 0.0000, 0.0000],\n",
              "           [0.0000, 0.0000, 0.0000,  ..., 0.0000, 0.0000, 0.0000]],\n",
              " \n",
              "          [[0.0000, 0.0000, 0.0000,  ..., 0.0000, 0.0000, 0.0000],\n",
              "           [0.0000, 0.0000, 0.0000,  ..., 0.0000, 0.0000, 0.0000],\n",
              "           [0.0000, 0.0000, 0.0000,  ..., 0.0000, 0.0000, 0.0000],\n",
              "           ...,\n",
              "           [0.0000, 0.0000, 0.0000,  ..., 0.0000, 0.0000, 0.0000],\n",
              "           [0.0000, 0.0000, 0.0000,  ..., 0.0000, 0.0000, 0.0000],\n",
              "           [0.0000, 0.0000, 0.0000,  ..., 0.0000, 0.0000, 0.0000]]],\n",
              " \n",
              " \n",
              "         [[[0.0000, 0.0000, 0.0000,  ..., 0.4863, 0.0000, 0.0000],\n",
              "           [0.0000, 0.0000, 0.4157,  ..., 0.5137, 0.0000, 0.0000],\n",
              "           [0.4078, 0.4157, 0.5412,  ..., 0.7255, 0.5020, 0.0000],\n",
              "           ...,\n",
              "           [0.0000, 0.6431, 0.6353,  ..., 0.6157, 0.4863, 0.4824],\n",
              "           [0.0000, 0.0000, 0.6353,  ..., 0.4824, 0.0000, 0.0000],\n",
              "           [0.0000, 0.0000, 0.6392,  ..., 0.0000, 0.0000, 0.0000]],\n",
              " \n",
              "          [[0.0000, 0.0000, 0.0000,  ..., 0.4784, 0.0000, 0.0000],\n",
              "           [0.0000, 0.0000, 0.4235,  ..., 0.5059, 0.0000, 0.0000],\n",
              "           [0.4314, 0.4314, 0.5373,  ..., 0.7137, 0.4980, 0.0000],\n",
              "           ...,\n",
              "           [0.0000, 0.7059, 0.6941,  ..., 0.6235, 0.4941, 0.4902],\n",
              "           [0.0000, 0.0000, 0.6980,  ..., 0.4902, 0.0000, 0.0000],\n",
              "           [0.0000, 0.0000, 0.6980,  ..., 0.0000, 0.0000, 0.0000]],\n",
              " \n",
              "          [[0.0000, 0.0000, 0.0000,  ..., 0.4745, 0.0000, 0.0000],\n",
              "           [0.0000, 0.0000, 0.4118,  ..., 0.4980, 0.0000, 0.0000],\n",
              "           [0.4157, 0.4157, 0.5294,  ..., 0.6941, 0.4902, 0.0000],\n",
              "           ...,\n",
              "           [0.0000, 0.7059, 0.6980,  ..., 0.5647, 0.4549, 0.4510],\n",
              "           [0.0000, 0.0000, 0.6980,  ..., 0.4510, 0.0000, 0.0000],\n",
              "           [0.0000, 0.0000, 0.7059,  ..., 0.0000, 0.0000, 0.0000]]]]))"
            ]
          },
          "metadata": {},
          "execution_count": 123
        }
      ]
    },
    {
      "cell_type": "code",
      "source": [
        "# Create model\n",
        "import torch.nn\n",
        "class DogsCats(nn.Module):\n",
        "  def __init__(self,\n",
        "               input_shape: int,\n",
        "               hidden_layers: int,\n",
        "               output_shape: int):\n",
        "    super().__init__()\n",
        "    self.layer_1 = nn.Sequential(\n",
        "      nn.Conv2d(in_channels=input_shape,\n",
        "                out_channels=hidden_layers,\n",
        "                kernel_size=3,\n",
        "                stride=1,\n",
        "                padding=1),\n",
        "      # nn.ReLU(),\n",
        "      # nn.Conv2d(in_channels=hidden_layers,\n",
        "      #           out_channels=hidden_layers,\n",
        "      #           kernel_size=3,\n",
        "      #           stride=1,\n",
        "      #           padding=1),\n",
        "      # nn.ReLU(),\n",
        "      nn.MaxPool2d(kernel_size=2,\n",
        "                   stride=2)\n",
        "  )\n",
        "    self.layer_2 = nn.Sequential(\n",
        "      nn.Conv2d(in_channels=hidden_layers,\n",
        "                out_channels=hidden_layers,\n",
        "                kernel_size=3,\n",
        "                stride=1,\n",
        "                padding=1),\n",
        "      # nn.ReLU(),\n",
        "      # nn.Conv2d(in_channels=hidden_layers,\n",
        "      #           out_channels=hidden_layers,\n",
        "      #           kernel_size=3,\n",
        "      #           stride=1,\n",
        "      #           padding=1),\n",
        "      # nn.ReLU(),\n",
        "      nn.MaxPool2d(kernel_size=2,\n",
        "                   stride=2)\n",
        "  )\n",
        "    self.layer_3 = nn.Sequential(\n",
        "        nn.Flatten(),\n",
        "        nn.Linear(in_features= hidden_layers*16*16,\n",
        "                  out_features= 128),\n",
        "        nn.ReLU(),\n",
        "        nn.Linear(in_features= 128,\n",
        "                  out_features= output_shape)\n",
        "    )\n",
        "\n",
        "  def forward(self, x):\n",
        "    x = self.layer_1(x)\n",
        "    # print(x.shape)\n",
        "    x = self.layer_2(x)\n",
        "    # print(x.shape)\n",
        "    x = self.layer_3(x)\n",
        "    # print(x.shape)\n",
        "    return x\n",
        ""
      ],
      "metadata": {
        "id": "PN6qfLCeruim"
      },
      "execution_count": 124,
      "outputs": []
    },
    {
      "cell_type": "code",
      "source": [
        "model_0 = DogsCats(input_shape=3,\n",
        "                   hidden_layers=10,\n",
        "                   output_shape=2)\n",
        "model_0"
      ],
      "metadata": {
        "colab": {
          "base_uri": "https://localhost:8080/"
        },
        "id": "GT6m28hRuJkn",
        "outputId": "0ebe3ea0-c994-479f-9e5e-7c2902ea4a4c"
      },
      "execution_count": 133,
      "outputs": [
        {
          "output_type": "execute_result",
          "data": {
            "text/plain": [
              "DogsCats(\n",
              "  (layer_1): Sequential(\n",
              "    (0): Conv2d(3, 10, kernel_size=(3, 3), stride=(1, 1), padding=(1, 1))\n",
              "    (1): MaxPool2d(kernel_size=2, stride=2, padding=0, dilation=1, ceil_mode=False)\n",
              "  )\n",
              "  (layer_2): Sequential(\n",
              "    (0): Conv2d(10, 10, kernel_size=(3, 3), stride=(1, 1), padding=(1, 1))\n",
              "    (1): MaxPool2d(kernel_size=2, stride=2, padding=0, dilation=1, ceil_mode=False)\n",
              "  )\n",
              "  (layer_3): Sequential(\n",
              "    (0): Flatten(start_dim=1, end_dim=-1)\n",
              "    (1): Linear(in_features=2560, out_features=128, bias=True)\n",
              "    (2): ReLU()\n",
              "    (3): Linear(in_features=128, out_features=2, bias=True)\n",
              "  )\n",
              ")"
            ]
          },
          "metadata": {},
          "execution_count": 133
        }
      ]
    },
    {
      "cell_type": "code",
      "source": [
        "model_0(dataset[0])"
      ],
      "metadata": {
        "colab": {
          "base_uri": "https://localhost:8080/"
        },
        "id": "yK1UbC0ruatG",
        "outputId": "b113bf75-d67e-4fb2-b1ad-fbf7cf365420"
      },
      "execution_count": 134,
      "outputs": [
        {
          "output_type": "execute_result",
          "data": {
            "text/plain": [
              "tensor([[-0.0766, -0.0739],\n",
              "        [-0.0697, -0.0865],\n",
              "        [-0.0607, -0.0620],\n",
              "        [-0.0607, -0.0818],\n",
              "        [-0.0397, -0.0739],\n",
              "        [-0.0162, -0.0440],\n",
              "        [-0.0282, -0.0843],\n",
              "        [-0.0532, -0.0784],\n",
              "        [-0.0639, -0.0887],\n",
              "        [-0.0622, -0.0742],\n",
              "        [-0.0421, -0.0684],\n",
              "        [-0.0616, -0.0971],\n",
              "        [-0.0881, -0.0801],\n",
              "        [-0.0731, -0.0662],\n",
              "        [-0.0322, -0.0557],\n",
              "        [-0.0362, -0.0628],\n",
              "        [-0.0314, -0.0617],\n",
              "        [-0.0706, -0.0790],\n",
              "        [-0.0557, -0.0726],\n",
              "        [-0.0487, -0.0724],\n",
              "        [-0.0477, -0.0702],\n",
              "        [-0.0488, -0.0854],\n",
              "        [-0.0802, -0.0508],\n",
              "        [-0.0506, -0.0691],\n",
              "        [-0.0875, -0.0690],\n",
              "        [-0.0654, -0.0603],\n",
              "        [-0.0884, -0.0669],\n",
              "        [-0.0226, -0.0509],\n",
              "        [-0.0766, -0.0453],\n",
              "        [-0.0678, -0.0645],\n",
              "        [-0.0554, -0.0887],\n",
              "        [-0.0854, -0.0893]], grad_fn=<AddmmBackward0>)"
            ]
          },
          "metadata": {},
          "execution_count": 134
        }
      ]
    },
    {
      "cell_type": "code",
      "source": [
        "try:\n",
        "  import torchinfo\n",
        "except:\n",
        "  !pip install torchinfo\n",
        "  import torchinfo\n",
        "\n",
        "from torchinfo import summary\n",
        "summary(model_0, (1, 3, 64, 64))"
      ],
      "metadata": {
        "colab": {
          "base_uri": "https://localhost:8080/"
        },
        "id": "_67oklWuyWQH",
        "outputId": "edef960d-8f6a-4aed-dcc7-6a245b9573c7"
      },
      "execution_count": 135,
      "outputs": [
        {
          "output_type": "execute_result",
          "data": {
            "text/plain": [
              "==========================================================================================\n",
              "Layer (type:depth-idx)                   Output Shape              Param #\n",
              "==========================================================================================\n",
              "DogsCats                                 [1, 2]                    --\n",
              "├─Sequential: 1-1                        [1, 10, 32, 32]           --\n",
              "│    └─Conv2d: 2-1                       [1, 10, 64, 64]           280\n",
              "│    └─MaxPool2d: 2-2                    [1, 10, 32, 32]           --\n",
              "├─Sequential: 1-2                        [1, 10, 16, 16]           --\n",
              "│    └─Conv2d: 2-3                       [1, 10, 32, 32]           910\n",
              "│    └─MaxPool2d: 2-4                    [1, 10, 16, 16]           --\n",
              "├─Sequential: 1-3                        [1, 2]                    --\n",
              "│    └─Flatten: 2-5                      [1, 2560]                 --\n",
              "│    └─Linear: 2-6                       [1, 128]                  327,808\n",
              "│    └─ReLU: 2-7                         [1, 128]                  --\n",
              "│    └─Linear: 2-8                       [1, 2]                    258\n",
              "==========================================================================================\n",
              "Total params: 329,256\n",
              "Trainable params: 329,256\n",
              "Non-trainable params: 0\n",
              "Total mult-adds (M): 2.41\n",
              "==========================================================================================\n",
              "Input size (MB): 0.05\n",
              "Forward/backward pass size (MB): 0.41\n",
              "Params size (MB): 1.32\n",
              "Estimated Total Size (MB): 1.78\n",
              "=========================================================================================="
            ]
          },
          "metadata": {},
          "execution_count": 135
        }
      ]
    },
    {
      "cell_type": "code",
      "source": [
        "# Create train_step()\n",
        "def train_step(model: torch.nn.Module,\n",
        "               dataloader: torch.utils.data.DataLoader,\n",
        "               loss_fn: torch.nn.Module,\n",
        "               optimizer: torch.optim.Optimizer,\n",
        "               device=device):\n",
        "  # Put the model in train mode\n",
        "  model.train()\n",
        "\n",
        "  # Setup train loss and train accuracy values\n",
        "  train_loss, train_acc = 0, 0\n",
        "\n",
        "  # Loop through data loader data batches\n",
        "  for batch, (X, y) in enumerate(dataloader):\n",
        "    y = torch.Tensor(y)\n",
        "    X, y = X.to(device), y.to(device)\n",
        "    # 1. Forward pass\n",
        "    y_pred = model(X) # output model logits\n",
        "\n",
        "    # 2. Calculate the loss\n",
        "    loss = loss_fn(y_pred, y)\n",
        "    train_loss += loss.item()\n",
        "\n",
        "    # 3. Optimizer zero grad\n",
        "    optimizer.zero_grad()\n",
        "\n",
        "    # 4. Loss backward\n",
        "    loss.backward()\n",
        "\n",
        "    # 5. Optimizer step\n",
        "    optimizer.step()\n",
        "\n",
        "    # Calculate accuracy metric\n",
        "    y_pred_class = torch.argmax(torch.softmax(y_pred, dim=1), dim=1)\n",
        "    train_acc += (y_pred_class==y).sum().item()/len(y_pred)\n",
        "\n",
        "  # Adjust metrics to get average loss and accuracy per batch\n",
        "  train_loss = train_loss / len(dataloader)\n",
        "  train_acc = train_acc / len(dataloader)\n",
        "  return train_loss, train_acc"
      ],
      "metadata": {
        "id": "1l7j1XZnyze6"
      },
      "execution_count": 136,
      "outputs": []
    },
    {
      "cell_type": "code",
      "source": [
        "# Create a test step\n",
        "def test_step(model: torch.nn.Module,\n",
        "              dataloader: torch.utils.data.DataLoader,\n",
        "              loss_fn: torch.nn.Module,\n",
        "              device=device):\n",
        "  print(\"start\")\n",
        "  # Put model in eval mode\n",
        "  model.eval()\n",
        "\n",
        "  # Setup test loss and test accuracy values\n",
        "  test_loss, test_acc = 0, 0\n",
        "\n",
        "  # Turn on inference mode\n",
        "  with torch.inference_mode():\n",
        "    # Loop through DataLoader batches\n",
        "    for batch, (X, y) in enumerate(dataloader):\n",
        "      # print(\"y\", y)\n",
        "      X, y = X.to(device), y.to(device)\n",
        "      # 1. Forward pass\n",
        "      test_pred_logits = model(X)\n",
        "\n",
        "      # 2. Calculate the loss\n",
        "      loss = loss_fn(test_pred_logits, y)\n",
        "      test_loss += loss.item()\n",
        "\n",
        "      # Calculate the accuracy\n",
        "      test_pred_labels = test_pred_logits.argmax(dim=1)\n",
        "      test_acc += ((test_pred_labels == y).sum().item()/len(test_pred_labels))\n",
        "\n",
        "    # Adjust metrics to get average loss and accuracy per batch\n",
        "    test_loss = test_loss / len(dataloader)\n",
        "    test_acc = test_acc / len(dataloader)\n",
        "    return test_loss, test_acc"
      ],
      "metadata": {
        "id": "CppXoADc0NAz"
      },
      "execution_count": 137,
      "outputs": []
    },
    {
      "cell_type": "code",
      "source": [
        "from tqdm.auto import tqdm\n",
        "\n",
        "# 1. Create a train function that takes in various model parameters + optimizer + dataloaders + loss function\n",
        "def train(model: torch.nn.Module,\n",
        "          train_dataloader: torch.utils.data.DataLoader,\n",
        "          test_dataloader: torch.utils.data.DataLoader,\n",
        "          optimizer: torch.optim.Optimizer,\n",
        "          loss_fn: torch.nn.Module,\n",
        "          epochs: int = 5,\n",
        "          device = device):\n",
        "\n",
        "  # 2. Create empty results dictionary\n",
        "  results = {\"train_loss\": [],\n",
        "             \"train_acc\": [],\n",
        "             \"test_loss\": [],\n",
        "             \"test_acc\": []}\n",
        "  # 3. Loop through training and testing steps for a number of epochs\n",
        "  for epoch in tqdm(range(epochs)):\n",
        "    train_loss, train_acc = train_step(model=model,\n",
        "                                      dataloader=train_dataloader,\n",
        "                                      loss_fn=loss_fn,\n",
        "                                      optimizer=optimizer,\n",
        "                                      device=device)\n",
        "    test_loss, test_acc = test_step(model=model,\n",
        "                                    dataloader=test_dataloader,\n",
        "                                    loss_fn=loss_fn,\n",
        "                                    device=device)\n",
        "\n",
        "    # 5. Print out what's happening\n",
        "    print(f\"Epoch: {epoch} | Train loss: {train_loss:.4f} | Train acc: {train_acc:.4f} | Test loss: {test_loss:4f} | Test acc: {test_acc:.4f}\")\n",
        "    results[\"train_loss\"].append(train_loss)\n",
        "    results[\"train_acc\"].append(train_acc)\n",
        "    results[\"test_loss\"].append(test_loss)\n",
        "    results[\"test_acc\"].append(test_acc)\n",
        "\n",
        "  # 6. Return the filled results at the end of the loop\n",
        "  return results\n"
      ],
      "metadata": {
        "id": "II9IKOli06Xh"
      },
      "execution_count": 138,
      "outputs": []
    },
    {
      "cell_type": "code",
      "source": [
        "# Set random seeds\n",
        "torch.manual_seed(42)\n",
        "torch.cuda.manual_seed(42)\n",
        "\n",
        "# Set number of epochs\n",
        "NUM_EPOCHS = 30\n",
        "\n",
        "\n",
        "# Setup loss function and optimizer\n",
        "loss_fn = nn.CrossEntropyLoss()\n",
        "optimizer = torch.optim.Adam(model_0.parameters(), lr=0.001, weight_decay=1e-4)\n",
        "\n",
        "# Start the timer\n",
        "from timeit import default_timer as timer\n",
        "start_time = timer()\n",
        "# Train model_0\n",
        "model_0_results = train(model=model_0.to(device),\n",
        "                        train_dataloader=train_dataloader,\n",
        "                        test_dataloader=test_dataloader,\n",
        "                        optimizer=optimizer,\n",
        "                        loss_fn=loss_fn,\n",
        "                        epochs=NUM_EPOCHS)\n",
        "\n",
        "# End the timer and print out how long it took\n",
        "end_time = timer()\n",
        "print(f\"Total training time: {end_time-start_time:.3f} seconds\")"
      ],
      "metadata": {
        "colab": {
          "base_uri": "https://localhost:8080/",
          "height": 1000,
          "referenced_widgets": [
            "3e675324af5d44bd86287230735c49a2",
            "0a68654878f64648bacb7825d3c383de",
            "3ec4c5a269e14bda96ed152d891c2463",
            "95ad9e7d5a0d4e0a95db5568629689e2",
            "8204dcce42494f01b52a8724ccff18ea",
            "5fd07b08f23b4466a50e76f9c993ad48",
            "0f16247c58504306af5f4c675f8ec88d",
            "19abb87776e54d02aecf3052ea6832a3",
            "441e9d98985b403bac663447ef35239e",
            "f17401a88836438e9b4244f80ddc9899",
            "17ac563c061a4fcf858f01146ad920ab"
          ]
        },
        "id": "A9wsbu0T0llI",
        "outputId": "93c29884-1367-4955-ad24-8e63985807b6"
      },
      "execution_count": 141,
      "outputs": [
        {
          "output_type": "display_data",
          "data": {
            "text/plain": [
              "  0%|          | 0/30 [00:00<?, ?it/s]"
            ],
            "application/vnd.jupyter.widget-view+json": {
              "version_major": 2,
              "version_minor": 0,
              "model_id": "3e675324af5d44bd86287230735c49a2"
            }
          },
          "metadata": {}
        },
        {
          "output_type": "stream",
          "name": "stdout",
          "text": [
            "start\n",
            "Epoch: 0 | Train loss: 0.0570 | Train acc: 0.9843 | Test loss: 1.300772 | Test acc: 0.7118\n",
            "start\n",
            "Epoch: 1 | Train loss: 0.0328 | Train acc: 0.9927 | Test loss: 1.487708 | Test acc: 0.7035\n",
            "start\n",
            "Epoch: 2 | Train loss: 0.0388 | Train acc: 0.9887 | Test loss: 1.548393 | Test acc: 0.6950\n",
            "start\n",
            "Epoch: 3 | Train loss: 0.0442 | Train acc: 0.9848 | Test loss: 1.630484 | Test acc: 0.7047\n",
            "start\n",
            "Epoch: 4 | Train loss: 0.0244 | Train acc: 0.9933 | Test loss: 1.777063 | Test acc: 0.7031\n",
            "start\n",
            "Epoch: 5 | Train loss: 0.0136 | Train acc: 0.9974 | Test loss: 1.796860 | Test acc: 0.7131\n",
            "start\n",
            "Epoch: 6 | Train loss: 0.0099 | Train acc: 0.9975 | Test loss: 1.848466 | Test acc: 0.7109\n",
            "start\n",
            "Epoch: 7 | Train loss: 0.0538 | Train acc: 0.9823 | Test loss: 1.763316 | Test acc: 0.7009\n",
            "start\n",
            "Epoch: 8 | Train loss: 0.0660 | Train acc: 0.9781 | Test loss: 1.973978 | Test acc: 0.7099\n",
            "start\n",
            "Epoch: 9 | Train loss: 0.0203 | Train acc: 0.9948 | Test loss: 1.887495 | Test acc: 0.7109\n",
            "start\n",
            "Epoch: 10 | Train loss: 0.0032 | Train acc: 0.9999 | Test loss: 1.938590 | Test acc: 0.7138\n",
            "start\n",
            "Epoch: 11 | Train loss: 0.0014 | Train acc: 1.0000 | Test loss: 1.982040 | Test acc: 0.7055\n",
            "start\n",
            "Epoch: 12 | Train loss: 0.0009 | Train acc: 1.0000 | Test loss: 1.984331 | Test acc: 0.7079\n",
            "start\n",
            "Epoch: 13 | Train loss: 0.0008 | Train acc: 1.0000 | Test loss: 1.979873 | Test acc: 0.7099\n",
            "start\n",
            "Epoch: 14 | Train loss: 0.0007 | Train acc: 1.0000 | Test loss: 1.962829 | Test acc: 0.7099\n",
            "start\n",
            "Epoch: 15 | Train loss: 0.0007 | Train acc: 1.0000 | Test loss: 1.948790 | Test acc: 0.7104\n",
            "start\n",
            "Epoch: 16 | Train loss: 0.0006 | Train acc: 1.0000 | Test loss: 1.915161 | Test acc: 0.7099\n",
            "start\n",
            "Epoch: 17 | Train loss: 0.0006 | Train acc: 1.0000 | Test loss: 1.901125 | Test acc: 0.7077\n",
            "start\n",
            "Epoch: 18 | Train loss: 0.0006 | Train acc: 1.0000 | Test loss: 1.875559 | Test acc: 0.7091\n",
            "start\n",
            "Epoch: 19 | Train loss: 0.0007 | Train acc: 1.0000 | Test loss: 1.845092 | Test acc: 0.7091\n",
            "start\n",
            "Epoch: 20 | Train loss: 0.0007 | Train acc: 1.0000 | Test loss: 1.808647 | Test acc: 0.7086\n",
            "start\n",
            "Epoch: 21 | Train loss: 0.0007 | Train acc: 1.0000 | Test loss: 1.784990 | Test acc: 0.7062\n",
            "start\n",
            "Epoch: 22 | Train loss: 0.0008 | Train acc: 1.0000 | Test loss: 1.774329 | Test acc: 0.7096\n",
            "start\n",
            "Epoch: 23 | Train loss: 0.0924 | Train acc: 0.9768 | Test loss: 2.243284 | Test acc: 0.6353\n",
            "start\n",
            "Epoch: 24 | Train loss: 0.3476 | Train acc: 0.8583 | Test loss: 1.153598 | Test acc: 0.7026\n",
            "start\n",
            "Epoch: 25 | Train loss: 0.0808 | Train acc: 0.9737 | Test loss: 1.382933 | Test acc: 0.6908\n",
            "start\n",
            "Epoch: 26 | Train loss: 0.0194 | Train acc: 0.9981 | Test loss: 1.566779 | Test acc: 0.7013\n",
            "start\n",
            "Epoch: 27 | Train loss: 0.0067 | Train acc: 1.0000 | Test loss: 1.684708 | Test acc: 0.7081\n",
            "start\n",
            "Epoch: 28 | Train loss: 0.0032 | Train acc: 1.0000 | Test loss: 1.730916 | Test acc: 0.7081\n",
            "start\n",
            "Epoch: 29 | Train loss: 0.0021 | Train acc: 1.0000 | Test loss: 1.796449 | Test acc: 0.7091\n",
            "Total training time: 27.701 seconds\n"
          ]
        }
      ]
    },
    {
      "cell_type": "code",
      "source": [
        "model_path = Path(\"models\")\n",
        "model_0_path = model_path / \"model_0.pth\"\n",
        "\n",
        "if model_path.is_dir():\n",
        "  print(f\"{model_0_path} already exists... skipping download\")\n",
        "else:\n",
        "  print(f\"{model_0_path} does not exist... creating one\")\n",
        "  model_path.mkdir(parents=True, exist_ok=True)\n",
        "\n",
        "\n",
        "torch.save(obj=model_0.state_dict(),\n",
        "           f=model_0_path)"
      ],
      "metadata": {
        "colab": {
          "base_uri": "https://localhost:8080/"
        },
        "id": "jBqEbukCeNbO",
        "outputId": "fa49e606-c599-4a72-d6dc-aea6188daaf2"
      },
      "execution_count": 149,
      "outputs": [
        {
          "output_type": "stream",
          "name": "stdout",
          "text": [
            "models/model_0.pth does not exist... creating one\n"
          ]
        }
      ]
    },
    {
      "cell_type": "code",
      "source": [
        "loaded_model = DogsCats(input_shape=3,\n",
        "                       hidden_layers=10,\n",
        "                       output_shape=2)\n",
        "loaded_model.load_state_dict(torch.load(model_0_path))\n",
        "loaded_model.to(device)\n",
        "loaded_model"
      ],
      "metadata": {
        "colab": {
          "base_uri": "https://localhost:8080/"
        },
        "id": "AVJxPrjFgSV5",
        "outputId": "5bc934b8-f5ac-49fc-e098-d9eb1a9f2274"
      },
      "execution_count": 150,
      "outputs": [
        {
          "output_type": "execute_result",
          "data": {
            "text/plain": [
              "DogsCats(\n",
              "  (layer_1): Sequential(\n",
              "    (0): Conv2d(3, 10, kernel_size=(3, 3), stride=(1, 1), padding=(1, 1))\n",
              "    (1): MaxPool2d(kernel_size=2, stride=2, padding=0, dilation=1, ceil_mode=False)\n",
              "  )\n",
              "  (layer_2): Sequential(\n",
              "    (0): Conv2d(10, 10, kernel_size=(3, 3), stride=(1, 1), padding=(1, 1))\n",
              "    (1): MaxPool2d(kernel_size=2, stride=2, padding=0, dilation=1, ceil_mode=False)\n",
              "  )\n",
              "  (layer_3): Sequential(\n",
              "    (0): Flatten(start_dim=1, end_dim=-1)\n",
              "    (1): Linear(in_features=2560, out_features=128, bias=True)\n",
              "    (2): ReLU()\n",
              "    (3): Linear(in_features=128, out_features=2, bias=True)\n",
              "  )\n",
              ")"
            ]
          },
          "metadata": {},
          "execution_count": 150
        }
      ]
    }
  ]
}